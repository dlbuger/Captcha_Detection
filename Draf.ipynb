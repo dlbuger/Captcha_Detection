{
 "cells": [
  {
   "cell_type": "code",
   "execution_count": 1,
   "metadata": {},
   "outputs": [],
   "source": [
    "from Preprocess import DataGenerator"
   ]
  },
  {
   "cell_type": "code",
   "execution_count": 2,
   "metadata": {},
   "outputs": [
    {
     "name": "stdout",
     "output_type": "stream",
     "text": [
      "Train Folder -> Charset//train/\tExpected Images: 100\n",
      "Test  Folder -> Charset//test/\tExpected Images:25\n",
      "\n",
      "All Images in Train Folder have been Removed\n",
      "All Images in Test  Folder have been Removed\n",
      "\n",
      "Train Set Generate Complete!\n",
      "Test  Set Generate Complete!\n"
     ]
    }
   ],
   "source": [
    "char = DataGenerator(\"Charset/\",100)\n",
    "char.build_charSet(clear_path=True)"
   ]
  },
  {
   "cell_type": "code",
   "execution_count": 3,
   "metadata": {},
   "outputs": [
    {
     "name": "stdout",
     "output_type": "stream",
     "text": [
      "Train Folder -> Captcha//train/\tExpected Images: 100\n",
      "Test  Folder -> Captcha//test/\tExpected Images:25\n",
      "\n",
      "PATH Exist! Begin to Build Captcha Dataset...\n",
      "Train Set Generate Complete!\n",
      "Test  Set Generate Complete\n"
     ]
    }
   ],
   "source": [
    "captcha = DataGenerator(\"Captcha/\",100)\n",
    "captcha.build_captchaSet()"
   ]
  },
  {
   "cell_type": "code",
   "execution_count": null,
   "metadata": {},
   "outputs": [],
   "source": []
  }
 ],
 "metadata": {
  "kernelspec": {
   "display_name": "Python 3",
   "language": "python",
   "name": "python3"
  },
  "language_info": {
   "codemirror_mode": {
    "name": "ipython",
    "version": 3
   },
   "file_extension": ".py",
   "mimetype": "text/x-python",
   "name": "python",
   "nbconvert_exporter": "python",
   "pygments_lexer": "ipython3",
   "version": "3.7.5"
  }
 },
 "nbformat": 4,
 "nbformat_minor": 4
}
