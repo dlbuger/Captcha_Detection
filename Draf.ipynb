{
 "cells": [
  {
   "cell_type": "code",
   "execution_count": 1,
   "metadata": {},
   "outputs": [],
   "source": [
    "from Preprocess import DataGenerator\n",
    "from Preprocess import DataReader\n",
    "import io\n",
    "import glob\n",
    "from torch.utils.data import DataLoader\n",
    "from torchvision import transforms\n",
    "import matplotlib.pyplot as plt"
   ]
  },
  {
   "cell_type": "code",
   "execution_count": 2,
   "metadata": {},
   "outputs": [],
   "source": [
    "nums = ['0', '1', '2', '3', '4', '5', '6', '7', '8', '9']\n",
    "lower_char = ['a', 'b', 'c', 'd', 'e', 'f', 'g', 'h', 'i', 'j', 'k', 'l', 'm', 'n', 'o', 'p', 'q', 'r', 's', 't', 'u',\n",
    "              'v', 'w', 'x', 'y', 'z']\n",
    "upper_char = ['A', 'B', 'C', 'D', 'E', 'F', 'G', 'H', 'I', 'J', 'K', 'L', 'M', 'N', 'O', 'P', 'Q', 'R', 'S', 'T', 'U',\n",
    "              'V', 'W', 'X', 'Y', 'Z']\n",
    "\n",
    "total = nums + lower_char + upper_char\n",
    "classes = {}\n",
    "for i in range(len(total)):\n",
    "    classes[str(total[i])] = i"
   ]
  },
  {
   "cell_type": "code",
   "execution_count": 3,
   "metadata": {},
   "outputs": [
    {
     "name": "stdout",
     "output_type": "stream",
     "text": [
      "Train Folder -> Charset//train/\tExpected Images: 100\n",
      "Test  Folder -> Charset//test/\tExpected Images:25\n",
      "\n",
      "All Images in Train Folder have been Removed\n",
      "All Images in Test  Folder have been Removed\n",
      "\n",
      "Train Set Generate Complete!\n",
      "Test  Set Generate Complete!\n"
     ]
    }
   ],
   "source": [
    "char = DataGenerator(\"Charset/\",100)\n",
    "char.build_charSet(clear_path=True)"
   ]
  },
  {
   "cell_type": "code",
   "execution_count": 4,
   "metadata": {},
   "outputs": [
    {
     "name": "stdout",
     "output_type": "stream",
     "text": [
      "Train Folder -> Captcha//train/\tExpected Images: 100\n",
      "Test  Folder -> Captcha//test/\tExpected Images:25\n",
      "\n",
      "PATH Exist! Begin to Build Captcha Dataset...\n",
      "Train Set Generate Complete!\n",
      "Test  Set Generate Complete\n"
     ]
    }
   ],
   "source": [
    "captcha = DataGenerator(\"Captcha/\",100)\n",
    "captcha.build_captchaSet()"
   ]
  },
  {
   "cell_type": "code",
   "execution_count": 5,
   "metadata": {},
   "outputs": [],
   "source": [
    "transform = transforms.Compose([transforms.ToTensor()])"
   ]
  },
  {
   "cell_type": "code",
   "execution_count": 7,
   "metadata": {},
   "outputs": [],
   "source": [
    "train = DataReader('Charset/train/',transform=transform,class_dict=classes)"
   ]
  },
  {
   "cell_type": "code",
   "execution_count": 8,
   "metadata": {},
   "outputs": [],
   "source": [
    "trainset = DataLoader(train,batch_size=32)"
   ]
  },
  {
   "cell_type": "code",
   "execution_count": 23,
   "metadata": {},
   "outputs": [],
   "source": [
    "for batch in trainset:\n",
    "    features, labels = batch\n",
    "    break\n",
    "feature_iter = iter(features)\n",
    "label_iter = iter(labels)"
   ]
  },
  {
   "cell_type": "code",
   "execution_count": 51,
   "metadata": {},
   "outputs": [
    {
     "data": {
      "image/png": "[encoded data removed]",
      "text/plain": [
       "<Figure size 432x288 with 1 Axes>"
      ]
     },
     "metadata": {
      "needs_background": "light"
     },
     "output_type": "display_data"
    }
   ],
   "source": [
    "plt.imshow(next(feature_iter).permute(1,2,0))\n",
    "plt.title(train.classes[next(label_iter)])\n",
    "plt.show()"
   ]
  },
  {
   "cell_type": "code",
   "execution_count": null,
   "metadata": {},
   "outputs": [],
   "source": []
  }
 ],
 "metadata": {
  "kernelspec": {
   "display_name": "Python 3",
   "language": "python",
   "name": "python3"
  },
  "language_info": {
   "codemirror_mode": {
    "name": "ipython",
    "version": 3
   },
   "file_extension": ".py",
   "mimetype": "text/x-python",
   "name": "python",
   "nbconvert_exporter": "python",
   "pygments_lexer": "ipython3",
   "version": "3.7.5"
  }
 },
 "nbformat": 4,
 "nbformat_minor": 4
}
