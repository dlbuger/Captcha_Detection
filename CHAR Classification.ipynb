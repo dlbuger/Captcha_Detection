{
 "cells": [
  {
   "cell_type": "code",
   "execution_count": 68,
   "metadata": {},
   "outputs": [],
   "source": [
    "import torch\n",
    "from torchvision import transforms\n",
    "import glob\n",
    "import re\n",
    "import os\n",
    "import sys\n",
    "import pandas as pd\n",
    "import numpy as np\n",
    "from PIL import Image\n",
    "import PIL\n",
    "import pickle\n",
    "import matplotlib.pyplot as plt\n",
    "from dataReader import DataReader\n",
    "from torch.utils.data import DataLoader"
   ]
  },
  {
   "cell_type": "markdown",
   "metadata": {},
   "source": [
    "## Preprocess"
   ]
  },
  {
   "cell_type": "code",
   "execution_count": 160,
   "metadata": {},
   "outputs": [],
   "source": [
    "nums = ['0', '1', '2', '3', '4', '5', '6', '7', '8', '9']\n",
    "lower_char = ['a', 'b', 'c', 'd', 'e', 'f', 'g', 'h', 'i', 'j', 'k', 'l', 'm', 'n', 'o', 'p', 'q', 'r', 's', 't', 'u',\n",
    "              'v', 'w', 'x', 'y', 'z']\n",
    "upper_char = ['A', 'B', 'C', 'D', 'E', 'F', 'G', 'H', 'I', 'J', 'K', 'L', 'M', 'N', 'O', 'P', 'Q', 'R', 'S', 'T', 'U',\n",
    "              'V', 'W', 'X', 'Y', 'Z']\n",
    "\n",
    "total = nums + lower_char + upper_char\n",
    "classes = {}\n",
    "for i in range(len(total)):\n",
    "    classes[str(total[i])] = i"
   ]
  },
  {
   "cell_type": "code",
   "execution_count": 161,
   "metadata": {},
   "outputs": [],
   "source": [
    "def numerize_labels(labels):\n",
    "    return [classes[x] for x in labels]"
   ]
  },
  {
   "cell_type": "code",
   "execution_count": 162,
   "metadata": {},
   "outputs": [],
   "source": [
    "PATH = 'captcha_images/char/'\n",
    "train_path = PATH + 'train/'\n",
    "test_path = PATH + 'test/'\n",
    "\n",
    "\n",
    "train_files = glob.glob(train_path+\"*.jpg\")\n",
    "test_files = glob.glob(test_path+\"*.jpg\")"
   ]
  },
  {
   "cell_type": "code",
   "execution_count": 163,
   "metadata": {},
   "outputs": [],
   "source": [
    "def generate_labels(files_list, patten):\n",
    "    return [re.sub(patten,\"\",x)[0] for x in files_list]"
   ]
  },
  {
   "cell_type": "code",
   "execution_count": 164,
   "metadata": {},
   "outputs": [],
   "source": [
    "def generate_img(files_list):\n",
    "    images = []\n",
    "    for x in files_list:\n",
    "        images.append(plt.imread(x)/255)\n",
    "        plt.close()\n",
    "    return images"
   ]
  },
  {
   "cell_type": "code",
   "execution_count": 165,
   "metadata": {},
   "outputs": [],
   "source": [
    "transform = transforms.Compose([transforms.ToTensor()])\n",
    "train_labels = numerize_labels(generate_labels(train_files, train_path))\n",
    "train_labels = np.array(train_labels)\n",
    "train = DataReader(train_path, train_labels,transform)\n",
    "\n",
    "test_labels = numerize_labels(generate_labels(test_files, test_path))\n",
    "test_labels = np.array(test_labels)\n",
    "test = DataReader(test_path, test_labels, transform)"
   ]
  },
  {
   "cell_type": "code",
   "execution_count": 166,
   "metadata": {},
   "outputs": [],
   "source": [
    "trainset = DataLoader(train,batch_size=32)\n",
    "testset = DataLoader(test,batch_size=32)"
   ]
  },
  {
   "cell_type": "code",
   "execution_count": 167,
   "metadata": {},
   "outputs": [],
   "source": [
    "for batch in trainset:\n",
    "    features, labels = batch\n",
    "    break\n",
    "_iter = iter(range(32)) "
   ]
  },
  {
   "cell_type": "code",
   "execution_count": 173,
   "metadata": {},
   "outputs": [
    {
     "data": {
      "image/png": "[encoded data removed]",
      "text/plain": [
       "<Figure size 432x288 with 1 Axes>"
      ]
     },
     "metadata": {
      "needs_background": "light"
     },
     "output_type": "display_data"
    }
   ],
   "source": [
    "index = next(_iter)\n",
    "plt.title(total[labels[index]])\n",
    "plt.imshow(features[index].permute(1,2,0))\n",
    "plt.show()"
   ]
  },
  {
   "cell_type": "markdown",
   "metadata": {},
   "source": [
    "## Train"
   ]
  },
  {
   "cell_type": "code",
   "execution_count": 148,
   "metadata": {},
   "outputs": [],
   "source": [
    "class Classification_Net(torch.nn.Module):\n",
    "    def __init__(self):\n",
    "        super(Classification_Net, self).__init__()\n",
    "        \n",
    "        self.conv = torch.nn.Sequential(\n",
    "            torch.nn.Conv2d(3,12,3),\n",
    "            torch.nn.ReLU(),\n",
    "            torch.nn.MaxPool2d(2,2),\n",
    "            torch.nn.Conv2d(12,48,3),\n",
    "            torch.nn.ReLU(),\n",
    "            torch.nn.MaxPool2d(2,2),\n",
    "            torch.nn.Conv2d(48,96,1),\n",
    "            torch.nn.ReLU(),\n",
    "            torch.nn.MaxPool2d(2,2),\n",
    "            torch.nn.BatchNorm2d(96)\n",
    "        )\n",
    "        self.dense = torch.nn.Sequential(\n",
    "            torch.nn.Flatten(),\n",
    "            torch.nn.Linear(1440,1440),\n",
    "            torch.nn.ReLU(),\n",
    "            torch.nn.Linear(1440,720),\n",
    "            torch.nn.BatchNorm1d(720),\n",
    "            torch.nn.Linear(720, 360),\n",
    "            torch.nn.ELU(),\n",
    "            torch.nn.Linear(360,120),\n",
    "            torch.nn.ReLU(),\n",
    "            torch.nn.Linear(120, 62),\n",
    "            torch.nn.ReLU(),\n",
    "        )\n",
    "        \n",
    "    def forward(self, inputs):\n",
    "        o = self.conv(inputs)\n",
    "        o = self.dense(o)\n",
    "        return o\n",
    "net = Classification_Net().cuda()\n",
    "hist = []\n",
    "acc_hist = []"
   ]
  },
  {
   "cell_type": "code",
   "execution_count": 150,
   "metadata": {},
   "outputs": [
    {
     "data": {
      "text/plain": [
       "<All keys matched successfully>"
      ]
     },
     "execution_count": 150,
     "metadata": {},
     "output_type": "execute_result"
    }
   ],
   "source": [
    "optimizer = torch.optim.SGD(net.parameters(), lr=0.001)\n",
    "criterion = torch.nn.CrossEntropyLoss()\n",
    "MODEL_PATH = \"char_classification.pth\"\n",
    "net.load_state_dict(torch.load(MODEL_PATH))"
   ]
  },
  {
   "cell_type": "code",
   "execution_count": 147,
   "metadata": {},
   "outputs": [],
   "source": [
    "def evaluate():\n",
    "    total = 0.\n",
    "    correct = 0.\n",
    "    for batch in testset:\n",
    "        features, labels = batch\n",
    "        out = net(features.cuda())\n",
    "        for i,x in enumerate(out):\n",
    "            if torch.argmax(x) == labels[i]:\n",
    "                correct += 1\n",
    "        total += len(labels)\n",
    "    acc = correct/total\n",
    "    acc_hist.append(acc)\n",
    "    return acc\n",
    "#     print(f\"Total -> {total}\")\n",
    "#     print(f\"Correct -> {correct}\")\n",
    "#     print(\"Accuracy -> [%.5f]\"%acc)\n",
    "#     plt.title(\"Accuracy -> [%.5f]\"%acc)\n",
    "#     plt.plot(acc_hist)\n",
    "#     plt.show()"
   ]
  },
  {
   "cell_type": "code",
   "execution_count": 158,
   "metadata": {},
   "outputs": [
    {
     "name": "stdout",
     "output_type": "stream",
     "text": [
      "EPOCH: 1/1  1875/1875 [AVG Loss -> 1.32042]"
     ]
    },
    {
     "name": "stderr",
     "output_type": "stream",
     "text": [
      "No handles with labels found to put in legend.\n"
     ]
    },
    {
     "name": "stdout",
     "output_type": "stream",
     "text": [
      "\tEvaluation Accuracy -> 0.64817\n"
     ]
    },
    {
     "data": {
      "image/png": "[encoded data removed]",
      "text/plain": [
       "<Figure size 432x288 with 1 Axes>"
      ]
     },
     "metadata": {
      "needs_background": "light"
     },
     "output_type": "display_data"
    },
    {
     "name": "stderr",
     "output_type": "stream",
     "text": [
      "No handles with labels found to put in legend.\n"
     ]
    },
    {
     "data": {
      "image/png": "[encoded data removed]",
      "text/plain": [
       "<Figure size 432x288 with 1 Axes>"
      ]
     },
     "metadata": {
      "needs_background": "light"
     },
     "output_type": "display_data"
    }
   ],
   "source": [
    "EPOCHS = 1\n",
    "def fit(hist):\n",
    "    for e in range(EPOCHS):\n",
    "        running_loss = 0.\n",
    "        for i, batch in enumerate(trainset):\n",
    "            features, labels = batch\n",
    "            out = net(features.cuda())\n",
    "            loss = criterion(out, labels.cuda())\n",
    "            loss.backward()\n",
    "            running_loss += loss.item()\n",
    "            optimizer.step()\n",
    "            optimizer.zero_grad()\n",
    "            print(f\"\\rEPOCH: {e+1}/{EPOCHS}  {i+1}/{len(trainset)} [AVG Loss -> %.5f]\"%(running_loss/(i+1)),end=\"\")\n",
    "            sys.stdout.flush()\n",
    "        hist.append(running_loss/len(trainset))\n",
    "        eval_acc = evaluate()\n",
    "        print(\"\\tEvaluation Accuracy -> %.5f\"%eval_acc)\n",
    "fit(hist)\n",
    "plt.title('HISTORY AVG LOSS')\n",
    "plt.plot(hist,'b')\n",
    "plt.show()\n",
    "plt.title('HISTORY EVALUATION ACC')\n",
    "plt.plot(acc_hist,'c')\n",
    "plt.show()"
   ]
  },
  {
   "cell_type": "code",
   "execution_count": 159,
   "metadata": {},
   "outputs": [],
   "source": [
    "# torch.save(net.state_dict(),MODEL_PATH)"
   ]
  }
 ],
 "metadata": {
  "kernelspec": {
   "display_name": "Python 3",
   "language": "python",
   "name": "python3"
  },
  "language_info": {
   "codemirror_mode": {
    "name": "ipython",
    "version": 3
   },
   "file_extension": ".py",
   "mimetype": "text/x-python",
   "name": "python",
   "nbconvert_exporter": "python",
   "pygments_lexer": "ipython3",
   "version": "3.7.5"
  }
 },
 "nbformat": 4,
 "nbformat_minor": 4
}
