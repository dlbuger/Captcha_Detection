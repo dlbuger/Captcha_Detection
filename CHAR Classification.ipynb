{
 "cells": [
  {
   "cell_type": "code",
   "execution_count": 140,
   "metadata": {},
   "outputs": [],
   "source": [
    "import torch\n",
    "from torchvision import transforms\n",
    "import glob\n",
    "import re\n",
    "import os\n",
    "import sys\n",
    "import pandas as pd\n",
    "import numpy as np\n",
    "import matplotlib.pyplot as plt\n",
    "from Preprocess import DataReader\n",
    "from torch.utils.data import DataLoader\n",
    "import pickle\n",
    "\n",
    "\n",
    "hist = []\n",
    "acc_hist = []"
   ]
  },
  {
   "cell_type": "markdown",
   "metadata": {},
   "source": [
    "## Preprocess"
   ]
  },
  {
   "cell_type": "code",
   "execution_count": 3,
   "metadata": {},
   "outputs": [],
   "source": [
    "nums = ['0', '1', '2', '3', '4', '5', '6', '7', '8', '9']\n",
    "lower_char = ['a', 'b', 'c', 'd', 'e', 'f', 'g', 'h', 'i', 'j', 'k', 'l', 'm', 'n', 'o', 'p', 'q', 'r', 's', 't', 'u',\n",
    "              'v', 'w', 'x', 'y', 'z']\n",
    "upper_char = ['A', 'B', 'C', 'D', 'E', 'F', 'G', 'H', 'I', 'J', 'K', 'L', 'M', 'N', 'O', 'P', 'Q', 'R', 'S', 'T', 'U',\n",
    "              'V', 'W', 'X', 'Y', 'Z']\n",
    "\n",
    "total = nums + lower_char + upper_char\n",
    "classes = {}\n",
    "for i in range(len(total)):\n",
    "    classes[str(total[i])] = i"
   ]
  },
  {
   "cell_type": "code",
   "execution_count": 193,
   "metadata": {},
   "outputs": [],
   "source": [
    "BATCH_SIZE = 32\n",
    "transform = transforms.Compose([transforms.ToTensor(),])\n",
    "train = DataReader('Charset/train/',transform,class_dict = classes)\n",
    "test = DataReader('Charset/test/', transform, class_dict = classes)\n",
    "trainset = DataLoader(train,batch_size=BATCH_SIZE)\n",
    "testset = DataLoader(test,batch_size=BATCH_SIZE)"
   ]
  },
  {
   "cell_type": "code",
   "execution_count": 194,
   "metadata": {},
   "outputs": [],
   "source": [
    "for batch in trainset:\n",
    "    features, labels = batch\n",
    "    break\n",
    "_iter = iter(range(BATCH_SIZE)) "
   ]
  },
  {
   "cell_type": "code",
   "execution_count": 195,
   "metadata": {},
   "outputs": [
    {
     "data": {
      "image/png": "[encoded data removed]",
      "text/plain": [
       "<Figure size 432x288 with 1 Axes>"
      ]
     },
     "metadata": {
      "needs_background": "light"
     },
     "output_type": "display_data"
    }
   ],
   "source": [
    "index = next(_iter)\n",
    "plt.title(total[labels[index]])\n",
    "plt.imshow(features[index].permute(1,2,0))\n",
    "plt.show()"
   ]
  },
  {
   "cell_type": "markdown",
   "metadata": {},
   "source": [
    "## Train"
   ]
  },
  {
   "cell_type": "code",
   "execution_count": 175,
   "metadata": {},
   "outputs": [],
   "source": [
    "def evaluate():\n",
    "    total = 0.\n",
    "    correct = 0.\n",
    "    with torch.no_grad():\n",
    "        for batch in testset:\n",
    "            features, labels = batch\n",
    "            out = net(features.cuda())\n",
    "            for i,x in enumerate(out):\n",
    "                if torch.argmax(x) == labels[i]:\n",
    "                    correct += 1\n",
    "            total += len(labels)\n",
    "        acc = correct/total\n",
    "        acc_hist.append(acc)\n",
    "    return acc\n",
    "#     print(f\"Total -> {total}\")\n",
    "#     print(f\"Correct -> {correct}\")\n",
    "#     print(\"Accuracy -> [%.5f]\"%acc)\n",
    "#     plt.title(\"Accuracy -> [%.5f]\"%acc)\n",
    "#     plt.plot(acc_hist)\n",
    "#     plt.show()"
   ]
  },
  {
   "cell_type": "code",
   "execution_count": 181,
   "metadata": {},
   "outputs": [],
   "source": [
    "class Classification_Net(torch.nn.Module):\n",
    "    def __init__(self):\n",
    "        super(Classification_Net, self).__init__()\n",
    "        \n",
    "        self.conv2d = torch.nn.Sequential(\n",
    "            torch.nn.Conv2d(3,32,3),\n",
    "            torch.nn.ReLU(),\n",
    "            torch.nn.MaxPool2d(2,2),\n",
    "            torch.nn.Conv2d(32,64,3),\n",
    "            torch.nn.ReLU(),\n",
    "            torch.nn.MaxPool2d(2,2),\n",
    "            torch.nn.Conv2d(64,128,1),\n",
    "            torch.nn.ReLU(),\n",
    "            torch.nn.MaxPool2d(2,1),\n",
    "            torch.nn.BatchNorm2d(128),\n",
    "            torch.nn.Conv2d(128,256,2),\n",
    "            torch.nn.ReLU(),\n",
    "            torch.nn.Conv2d(256,512,1),\n",
    "            torch.nn.ReLU(),\n",
    "            torch.nn.MaxPool2d(1,1),\n",
    "            torch.nn.Conv2d(512,784,1),\n",
    "            torch.nn.ReLU(),\n",
    "            torch.nn.MaxPool2d(1,1),\n",
    "            torch.nn.BatchNorm2d(784),\n",
    "            torch.nn.Conv2d(784,512,2),\n",
    "            torch.nn.ReLU(),\n",
    "            torch.nn.MaxPool2d(2,1),\n",
    "            torch.nn.Conv2d(512,384,2),\n",
    "            torch.nn.ReLU(),\n",
    "            torch.nn.MaxPool2d(2,2)\n",
    "        )\n",
    "        self.dense = torch.nn.Sequential(\n",
    "            torch.nn.Flatten(),\n",
    "            torch.nn.Linear(768,2048),\n",
    "            torch.nn.ReLU(),\n",
    "            torch.nn.Linear(2048,3000),\n",
    "            torch.nn.ReLU(),\n",
    "            torch.nn.Linear(3000,2048),\n",
    "            torch.nn.ReLU(),\n",
    "            torch.nn.Linear(2048, 960),\n",
    "            torch.nn.BatchNorm1d(960),\n",
    "            torch.nn.Linear(960, 360),\n",
    "            torch.nn.ReLU(),\n",
    "            torch.nn.Linear(360,120),\n",
    "            torch.nn.LeakyReLU(),\n",
    "            torch.nn.Linear(120, 62),\n",
    "            torch.nn.ReLU(),\n",
    "        )\n",
    "        \n",
    "    def forward(self, inputs):\n",
    "        o = self.conv2d(inputs).reshape(len(inputs),384,-1)\n",
    "        o = self.dense(o)\n",
    "        return o\n",
    "net = Classification_Net().cuda()\n"
   ]
  },
  {
   "cell_type": "code",
   "execution_count": 203,
   "metadata": {},
   "outputs": [],
   "source": [
    "optimizer = torch.optim.Adam(net.parameters(), lr=0.0005)\n",
    "schedular = torch.optim.lr_scheduler.MultiStepLR(optimizer,[10,25],0.9,-1)\n",
    "criterion = torch.nn.CrossEntropyLoss()\n",
    "MODEL_PATH = \"char_classification.pth\"\n",
    "# net.load_state_dict(torch.load(MODEL_PATH))"
   ]
  },
  {
   "cell_type": "code",
   "execution_count": 204,
   "metadata": {},
   "outputs": [
    {
     "name": "stdout",
     "output_type": "stream",
     "text": [
      "EPOCH: 1/10  1875/1875 [AVG Loss -> 1.48762]\tEvaluation Accuracy -> 0.62522\n",
      "EPOCH: 2/10  1875/1875 [AVG Loss -> 1.48447]\tEvaluation Accuracy -> 0.62567\n",
      "EPOCH: 3/10  1875/1875 [AVG Loss -> 1.48338]\tEvaluation Accuracy -> 0.62411\n",
      "EPOCH: 4/10  1875/1875 [AVG Loss -> 1.48394]\tEvaluation Accuracy -> 0.62300\n",
      "EPOCH: 5/10  1875/1875 [AVG Loss -> 1.48594]\tEvaluation Accuracy -> 0.62422\n",
      "EPOCH: 6/10  1875/1875 [AVG Loss -> 1.48224]\tEvaluation Accuracy -> 0.62633\n",
      "EPOCH: 7/10  1875/1875 [AVG Loss -> 1.48367]\tEvaluation Accuracy -> 0.62367\n",
      "EPOCH: 8/10  1875/1875 [AVG Loss -> 1.48544]\tEvaluation Accuracy -> 0.61856\n",
      "EPOCH: 9/10  1875/1875 [AVG Loss -> 1.48453]\tEvaluation Accuracy -> 0.62422\n",
      "EPOCH: 10/10  1875/1875 [AVG Loss -> 1.48267]\tEvaluation Accuracy -> 0.62444\n"
     ]
    },
    {
     "data": {
      "image/png": "[encoded data removed]",
      "text/plain": [
       "<Figure size 432x288 with 1 Axes>"
      ]
     },
     "metadata": {
      "needs_background": "light"
     },
     "output_type": "display_data"
    },
    {
     "data": {
      "image/png": "[encoded data removed]",
      "text/plain": [
       "<Figure size 432x288 with 1 Axes>"
      ]
     },
     "metadata": {
      "needs_background": "light"
     },
     "output_type": "display_data"
    }
   ],
   "source": [
    "EPOCHS = 10\n",
    "def fit(hist):\n",
    "    for e in range(EPOCHS):\n",
    "        running_loss = 0.\n",
    "        for i, batch in enumerate(trainset):\n",
    "            features, labels = batch\n",
    "            out = net(features.cuda())\n",
    "            loss = criterion(out, labels.cuda())\n",
    "            loss.backward()\n",
    "            running_loss += loss.item()\n",
    "            optimizer.step()\n",
    "            optimizer.zero_grad()\n",
    "            print(f\"\\rEPOCH: {e+1}/{EPOCHS}  {i+1}/{len(trainset)} [AVG Loss -> %.5f]\"%(running_loss/(i+1)),end=\"\")\n",
    "            sys.stdout.flush()\n",
    "        schedular.step()\n",
    "        hist.append(running_loss/len(trainset))\n",
    "        eval_acc = evaluate()\n",
    "        print(\"\\tEvaluation Accuracy -> %.5f\"%eval_acc)\n",
    "fit(hist)\n",
    "plt.title('HISTORY AVG LOSS')\n",
    "plt.plot(hist,'b')\n",
    "plt.show()\n",
    "plt.title('HISTORY EVALUATION ACC')\n",
    "plt.plot(acc_hist,'c')\n",
    "plt.show()"
   ]
  },
  {
   "cell_type": "code",
   "execution_count": 206,
   "metadata": {},
   "outputs": [],
   "source": [
    "# torch.save(net.state_dict(),MODEL_PATH)"
   ]
  },
  {
   "cell_type": "code",
   "execution_count": null,
   "metadata": {},
   "outputs": [],
   "source": [
    "def save_hist_plot():\n",
    "    dic = {'hist_loss':hist, 'hist_acc':acc_hist}\n",
    "    with open(\"hist_plot.pkl\",'wb') as F:\n",
    "        pickle.dump(dic,F,protocol=pickle.HIGHEST_PROTOCOL)"
   ]
  }
 ],
 "metadata": {
  "kernelspec": {
   "display_name": "Python 3",
   "language": "python",
   "name": "python3"
  },
  "language_info": {
   "codemirror_mode": {
    "name": "ipython",
    "version": 3
   },
   "file_extension": ".py",
   "mimetype": "text/x-python",
   "name": "python",
   "nbconvert_exporter": "python",
   "pygments_lexer": "ipython3",
   "version": "3.7.5"
  }
 },
 "nbformat": 4,
 "nbformat_minor": 4
}
